{
 "cells": [
  {
   "cell_type": "markdown",
   "metadata": {
    "vscode": {
     "languageId": "plaintext"
    }
   },
   "source": [
    "### Things to do\n",
    "- [ ] Import images as separate directory\n",
    "- [ ] Convertion of rgb to grayscale\n",
    "- [ ] Cropping the image to only manipulation zone\n",
    "- [ ] K-means clustering\n",
    "- [ ] Distance Transform "
   ]
  }
 ],
 "metadata": {
  "language_info": {
   "name": "python"
  }
 },
 "nbformat": 4,
 "nbformat_minor": 2
}
