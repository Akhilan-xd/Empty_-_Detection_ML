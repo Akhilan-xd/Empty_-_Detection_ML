{
 "cells": [
  {
   "cell_type": "markdown",
   "metadata": {
    "vscode": {
     "languageId": "plaintext"
    }
   },
   "source": [
    "### Things to do\n",
    "- [x] Import images as separate directory\n",
    "- [x] Convertion of rgb to grayscale\n",
    "- [x] Cropping the image to only manipulation zone\n",
    "- [x] Resize of the image (Not required)\n",
    "- [ ] K-means clustering\n",
    "- [ ] Distance Transform "
   ]
  },
  {
   "cell_type": "code",
   "execution_count": 34,
   "metadata": {},
   "outputs": [
    {
     "name": "stdout",
     "output_type": "stream",
     "text": [
      "The size of the image: (480, 640)\n"
     ]
    }
   ],
   "source": [
    "# Importing the image and visualizing it.\n",
    "\n",
    "import cv2\n",
    "import pandas as pd\n",
    "image = cv2.imread(\"/home/lil-e-va/Downloads/ML_project/empty_-_detection_ML/data/image_003.jpg\",0)\n",
    "print(f'The size of the image: {image.shape}')\n",
    "\n",
    "# Creating the dataframe\n",
    "dataframe_image = pd.DataFrame(image)\n",
    "dataframe_image.to_csv(\"/home/lil-e-va/Downloads/ML_project/empty_-_detection_ML/data/Image_values.csv\")\n",
    "\n",
    "cv2.imshow('Original',image)\n",
    "cv2.waitKey(0)\n",
    "\n",
    "cv2.destroyAllWindows()"
   ]
  },
  {
   "cell_type": "code",
   "execution_count": 43,
   "metadata": {},
   "outputs": [
    {
     "name": "stdout",
     "output_type": "stream",
     "text": [
      "(260, 610)\n"
     ]
    }
   ],
   "source": [
    "'''\n",
    "Cropping the image\n",
    "ref - https://learnopencv.com/cropping-an-image-using-opencv/\n",
    "'''\n",
    "\n",
    "cropped_image = image[150:410,30:640]\n",
    "print(cropped_image.shape)\n",
    "cv2.imshow(\"cropped\", cropped_image)\n",
    "\n",
    "cv2.waitKey(0)\n",
    "cv2.destroyAllWindows()"
   ]
  },
  {
   "cell_type": "markdown",
   "metadata": {},
   "source": [
    "**Is it a wise option to resize the image??? Use Cropped Image for now.**"
   ]
  },
  {
   "cell_type": "code",
   "execution_count": 44,
   "metadata": {},
   "outputs": [
    {
     "name": "stdout",
     "output_type": "stream",
     "text": [
      "(256, 256)\n"
     ]
    }
   ],
   "source": [
    "'''\n",
    "Resizing the image\n",
    "ref - https://learnopencv.com/image-resizing-with-opencv/\n",
    "'''\n",
    "\n",
    "downscale_val = (256,256)\n",
    "imgresized = cv2.resize(cropped_image,downscale_val,interpolation=cv2.INTER_AREA)\n",
    "\n",
    "print(imgresized.shape)\n",
    "cv2.imshow('resize_image',imgresized)\n",
    "cv2.waitKey(0)\n",
    "\n",
    "cv2.destroyAllWindows()"
   ]
  },
  {
   "cell_type": "code",
   "execution_count": null,
   "metadata": {},
   "outputs": [
    {
     "data": {
      "text/plain": [
       "'\\nConverting the image into Grayscale image\\nref - \"https://www.geeksforgeeks.org/python-grayscaling-of-images-using-opencv/\"\\n'"
      ]
     },
     "execution_count": 3,
     "metadata": {},
     "output_type": "execute_result"
    }
   ],
   "source": [
    "# This cell is not required to run as, conversion of the RBG to black is alreadu taken care in the above cell\n",
    "\n",
    "'''\n",
    "Converting the image into Grayscale image\n",
    "ref - \"https://www.geeksforgeeks.org/python-grayscaling-of-images-using-opencv/\"\n",
    "'''\n",
    "\n",
    "# gray_image = cv2.cvtColor(image, cv2.COLOR_BGR2GRAY)\n",
    "# cv2.imshow('Gray_Scale image',gray_image)\n",
    "# cv2.waitKey(0)\n",
    "\n",
    "\n",
    "\n",
    "# cv2.destroyAllWindows()"
   ]
  }
 ],
 "metadata": {
  "kernelspec": {
   "display_name": "ml_project",
   "language": "python",
   "name": "python3"
  },
  "language_info": {
   "codemirror_mode": {
    "name": "ipython",
    "version": 3
   },
   "file_extension": ".py",
   "mimetype": "text/x-python",
   "name": "python",
   "nbconvert_exporter": "python",
   "pygments_lexer": "ipython3",
   "version": "3.10.12"
  }
 },
 "nbformat": 4,
 "nbformat_minor": 2
}
